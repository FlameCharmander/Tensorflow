{
 "cells": [
  {
   "cell_type": "code",
   "execution_count": 1,
   "metadata": {},
   "outputs": [
    {
     "name": "stderr",
     "output_type": "stream",
     "text": [
      "C:\\ProgramData\\Anaconda3\\lib\\site-packages\\h5py\\__init__.py:36: FutureWarning: Conversion of the second argument of issubdtype from `float` to `np.floating` is deprecated. In future, it will be treated as `np.float64 == np.dtype(float).type`.\n",
      "  from ._conv import register_converters as _register_converters\n"
     ]
    }
   ],
   "source": [
    "import tensorflow as tf\n",
    "import numpy as np\n",
    "import copy"
   ]
  },
  {
   "cell_type": "code",
   "execution_count": 2,
   "metadata": {},
   "outputs": [],
   "source": [
    "data_path = \"data/sentiment_analysis/\"\n",
    "positive_file = data_path + \"sst_pos_sentences_id.txt\"\n",
    "negative_file = data_path + \"sst_neg_sentences_id.txt\"\n",
    "vocab = data_path + \"sst_vocab.txt\"\n",
    "\n",
    "BATCH_SIZE = 12\n",
    "HIDDEN_SIZE = 50\n",
    "EMB_DIM = 64\n",
    "VOCAB_SIZE = 5000\n",
    "MAX_LENGTH = 20"
   ]
  },
  {
   "cell_type": "code",
   "execution_count": 3,
   "metadata": {},
   "outputs": [],
   "source": [
    "class Dataloader:\n",
    "    def __init__(self, batch_size, max_length):\n",
    "        self.batch_size = batch_size\n",
    "        self.max_length = max_length\n",
    "\n",
    "    def create_batches(self, data_file_list):\n",
    "        \"\"\"make self.token_stream into a integer stream.\"\"\"\n",
    "        self.x_token_stream = []\n",
    "        self.y_token_stream = []\n",
    "        print(\"load %s file data..\" % ' '.join(data_file_list))\n",
    "        for data_file in data_file_list:\n",
    "            with open(data_file, 'r', encoding=\"utf-8\") as f:\n",
    "                for line in f:\n",
    "                    line = line.strip()\n",
    "                    line = line.split()\n",
    "                    parse_line = [int(x) for x in line]\n",
    "                    parse_line.extend([0] * (self.max_length - len(parse_line)))  # padding\n",
    "                    x = copy.deepcopy(parse_line)\n",
    "                    y = copy.deepcopy(parse_line)\n",
    "                    x.insert(0, 1)\n",
    "                    y.append(2)\n",
    "                    self.x_token_stream.append(x)\n",
    "                    self.y_token_stream.append(y)\n",
    "        self.num_batch = int(len(self.x_token_stream) / self.batch_size)\n",
    "        # cut the taken_stream's length exactly equal to num_batch * batch_size\n",
    "        self.x_token_stream = self.x_token_stream[:self.num_batch * self.batch_size]\n",
    "        self.y_token_stream = self.y_token_stream[:self.num_batch * self.batch_size]\n",
    "        self.x_sequence_batch = np.split(np.array(self.x_token_stream), self.num_batch, 0)\n",
    "        self.y_sequence_batch = np.split(np.array(self.y_token_stream), self.num_batch, 0)\n",
    "        self.pointer = 0\n",
    "        print(\"      Load %d * %d batches\" % (self.num_batch, self.batch_size))\n",
    "\n",
    "    def next_batch(self):\n",
    "        x_ret = self.x_sequence_batch[self.pointer]\n",
    "        y_ret = self.y_sequence_batch[self.pointer]\n",
    "        self.pointer = (self.pointer + 1) % (self.num_batch - 5)\n",
    "        return x_ret, y_ret"
   ]
  },
  {
   "cell_type": "code",
   "execution_count": 4,
   "metadata": {},
   "outputs": [],
   "source": [
    "class Generator:\n",
    "    def __init__(self, batch_size, hidden_size, emb_dim, vocab_size, max_length, learning_rate=0.01):\n",
    "        self.batch_size = batch_size\n",
    "        self.hidden_size = hidden_size\n",
    "        self.emb_dim = emb_dim\n",
    "        self.vocab_size = vocab_size\n",
    "        self.max_length = max_length\n",
    "        self.learning_rate = learning_rate\n",
    "        self.output_keep_prob = 0.6 #to prevent overfit\n",
    "        with tf.variable_scope(\"placeholder\"):\n",
    "            self.x = tf.placeholder(shape=[self.batch_size, self.max_length], dtype=tf.int32, name=\"inputs\")\n",
    "            self.y = tf.placeholder(shape=[self.batch_size, self.max_length], dtype=tf.int32, name=\"targets\")\n",
    "        with tf.variable_scope('embeeding'):\n",
    "            self.embedding = tf.Variable(tf.random.uniform([self.vocab_size, self.emb_dim], -1, 1), name=\"embedding\")\n",
    "            self.inputs = tf.nn.embedding_lookup(self.embedding, self.x)# map (seq_length,batch_size,emb_dim)\n",
    "        with tf.variable_scope(\"rnn\"):\n",
    "            self.lstm_cell = tf.contrib.rnn.BasicLSTMCell(self.hidden_size, state_is_tuple = False, name=\"lstm_cell\")\n",
    "            self.lstm_cell = tf.contrib.rnn.DropoutWrapper(self.lstm_cell, output_keep_prob=self.output_keep_prob)\n",
    "        with tf.variable_scope(\"ouput\"):\n",
    "            self.outputs, self.states = tf.nn.dynamic_rnn(cell=self.lstm_cell, inputs=self.inputs, dtype=tf.float32)#outputs (batch_size,max_length,hidden_size)\n",
    "            self.outputs = tf.reshape(self.outputs, shape=[-1, self.hidden_size])#(batch_size*max_length, hidden_size)\n",
    "            self.logits = tf.layers.dense(self.outputs, self.vocab_size, name=\"logits\")#(batch_size*max_length, vocab_size)\n",
    "            self.softmax = tf.nn.softmax(self.logits, name=\"softmax\")#(batch_size*max_length, vocab_size)\n",
    "        with tf.variable_scope(\"train\"):\n",
    "            self.label = tf.one_hot(tf.to_int32(tf.reshape(self.y, [-1])), self.vocab_size, 1.0, 0.0)\n",
    "            self.loss = tf.nn.softmax_cross_entropy_with_logits(logits=self.logits, labels=self.label)\n",
    "            self.loss = tf.reduce_mean(self.loss)\n",
    "            # We clip the gradients to prevent explosion\n",
    "            tvars = tf.trainable_variables()\n",
    "            max_grad_norm = 5\n",
    "            grads, _ = tf.clip_by_global_norm(tf.gradients(self.loss, tvars), max_grad_norm)\n",
    "            gradients = list(zip(grads, tvars))\n",
    "            self.optimizer = tf.train.AdamOptimizer(self.learning_rate)\n",
    "            self.train = self.optimizer.apply_gradients(gradients)"
   ]
  },
  {
   "cell_type": "code",
   "execution_count": null,
   "metadata": {
    "scrolled": false
   },
   "outputs": [],
   "source": [
    "if __name__ == \"__main__\":\n",
    "    generator = Generator(BATCH_SIZE, HIDDEN_SIZE, EMB_DIM, VOCAB_SIZE, MAX_LENGTH+1)\n",
    "    dataloader = Dataloader(BATCH_SIZE, MAX_LENGTH)\n",
    "    dataloader.create_batches([positive_file])\n",
    "    x, y = dataloader.next_batch()\n",
    "    \n",
    "    \n",
    "    with tf.Session() as sess:\n",
    "        sess.run(tf.global_variables_initializer())\n",
    "        for i in range(1000):\n",
    "            x, y = dataloader.next_batch()\n",
    "            loss, _ = sess.run([generator.loss, generator.train], feed_dict={generator.x:x, generator.y:y})\n",
    "            print(loss)"
   ]
  },
  {
   "cell_type": "code",
   "execution_count": null,
   "metadata": {},
   "outputs": [],
   "source": []
  },
  {
   "cell_type": "code",
   "execution_count": null,
   "metadata": {},
   "outputs": [],
   "source": []
  }
 ],
 "metadata": {
  "kernelspec": {
   "display_name": "Python 3",
   "language": "python",
   "name": "python3"
  },
  "language_info": {
   "codemirror_mode": {
    "name": "ipython",
    "version": 3
   },
   "file_extension": ".py",
   "mimetype": "text/x-python",
   "name": "python",
   "nbconvert_exporter": "python",
   "pygments_lexer": "ipython3",
   "version": "3.6.5"
  }
 },
 "nbformat": 4,
 "nbformat_minor": 2
}
